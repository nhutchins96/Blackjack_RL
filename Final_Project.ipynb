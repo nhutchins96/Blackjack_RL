{
  "nbformat": 4,
  "nbformat_minor": 0,
  "metadata": {
    "colab": {
      "name": "Final_Project.ipynb",
      "provenance": [],
      "collapsed_sections": []
    },
    "kernelspec": {
      "name": "python3",
      "display_name": "Python 3"
    },
    "language_info": {
      "name": "python"
    }
  },
  "cells": [
    {
      "cell_type": "markdown",
      "source": [
        "## Open AI Gym - Blackjack RL Monte Carlo\n",
        "By Nathan Hutchins"
      ],
      "metadata": {
        "id": "Umz3RLzjAKDK"
      }
    },
    {
      "cell_type": "markdown",
      "source": [
        "In this project I am going to explore the Blackjack-v0 environment created by Open AIs gym library. https://www.gymlibrary.ml/environments/toy_text/blackjack/\n",
        "\n",
        "I will be using Monte Carlo Reinforcement Learning to train an agent to play blackjack. I will not teach the agent any rules of the game, or any strategies. The goal of this project is to see how well the agent can learn on it's own and to see if it can reach a standard winning percentage that is common with a basic Blackjcak strategy. A common Blackjack strategy will achieve a win rate roughly around 40-42%. So this is our target! \n",
        "\n",
        "For the video example, please click here: https://youtu.be/RbyIOQ2IE_w"
      ],
      "metadata": {
        "id": "xp2hNj3XAgP7"
      }
    },
    {
      "cell_type": "markdown",
      "source": [
        "First input everything we need."
      ],
      "metadata": {
        "id": "6yi-LgB0Beml"
      }
    },
    {
      "cell_type": "code",
      "execution_count": 3,
      "metadata": {
        "id": "XS_wyvsy7Z8g"
      },
      "outputs": [],
      "source": [
        "import numpy as np\n",
        "from collections import defaultdict\n",
        "import gym\n",
        "import matplotlib.pyplot as plt\n",
        "import sys\n",
        "import json"
      ]
    },
    {
      "cell_type": "markdown",
      "source": [
        "--- \n",
        "### Example\n",
        "Below is an example of how the environment works. You can see that we are given an action space and environment tuple. The action space is the number of possible actions to take. In the Blackjack environment there are two options, hit or stand; A 1 will represent hit (get another card), and a 0 will represet stand (don't get another card). The tuple that we get back from env.reset is the state of the environment. We can see we are given the players total, the dealers total, and if the player has an Ace card or not. "
      ],
      "metadata": {
        "id": "AjBJjZaaBh-t"
      }
    },
    {
      "cell_type": "code",
      "source": [
        "# Make the environment \n",
        "env = gym.make(\"Blackjack-v0\")"
      ],
      "metadata": {
        "id": "k-jJngIgBDgA"
      },
      "execution_count": 4,
      "outputs": []
    },
    {
      "cell_type": "code",
      "source": [
        "# States\n",
        "player_sum, dealer_card, ace = env.reset()\n",
        "\n",
        "# Actions\n",
        "action_space = env.action_space.n\n",
        "\n",
        "print(player_sum, dealer_card, ace)\n",
        "print(action_space)\n",
        "\n",
        "# Can represent the Q function states and actions\n",
        "Q = defaultdict(lambda: np.zeros(2))\n",
        "Q[env.reset()]"
      ],
      "metadata": {
        "colab": {
          "base_uri": "https://localhost:8080/"
        },
        "id": "KCfNZwAswabi",
        "outputId": "83f5a4ad-b547-4f4c-ec4c-acf3b30fe0d2"
      },
      "execution_count": 9,
      "outputs": [
        {
          "output_type": "stream",
          "name": "stdout",
          "text": [
            "16 3 False\n",
            "2\n"
          ]
        },
        {
          "output_type": "execute_result",
          "data": {
            "text/plain": [
              "array([0., 0.])"
            ]
          },
          "metadata": {},
          "execution_count": 9
        }
      ]
    },
    {
      "cell_type": "markdown",
      "source": [
        "---\n",
        "# Creating our model!"
      ],
      "metadata": {
        "id": "blJKtYqxCXSa"
      }
    },
    {
      "cell_type": "markdown",
      "source": [
        "I first need to create a Policy before I create the full Monte Carlo function that will run the whole project. A Policy in simple terms is blackbox that tells the agent what action to take from each possible state. There are multiple options and complex policies I can choose from. However, to keep things simple and understandable I have chosen a simple Epsilone-Greedy policy. This policy chooses between exploration and exploitation randomly. \n",
        "\n",
        "This function will need to take our Q function, current state, and current ϵ value.\n",
        "\n",
        "$ \\pi (a|s) ⟵  \\begin{cases} 1 - ϵ + \\frac{ϵ}{|A(s)|}  \\text{if a maximizes} Q(s,a) \\\\ \\frac{ϵ}{|A(s)|} \\qquad \\text{else} \\end{cases}$\n",
        "\n",
        "Ref: https://www.geeksforgeeks.org/epsilon-greedy-algorithm-in-reinforcement-learning/\n",
        "\n",
        "\n",
        "\n"
      ],
      "metadata": {
        "id": "5C72GetJPq2b"
      }
    },
    {
      "cell_type": "code",
      "source": [
        "def epsilone_policy(Q, state, epsilon, display_probability=False):\n",
        "    probs = [0.0, 0.0]\n",
        "\n",
        "    # Get the most optimal action from this state (either 0 - stay, 1 - hit)\n",
        "    optimal_action = np.argmax(Q[state])\n",
        "\n",
        "    # Flip the action to get the non_optimal value\n",
        "    non_optimal_action = 0 if optimal_action == 1 else 1\n",
        "    \n",
        "    \"\"\" Note: our number of actions is always going to be 2. Thus |A(s)| = 2\"\"\"\n",
        "    # The top option from our policy above\n",
        "    probs[optimal_action] = 1 - epsilon + (epsilon / 2)\n",
        "\n",
        "    # The bottom option from our policy above\n",
        "    probs[non_optimal_action] = epsilon / 2\n",
        "\n",
        "    # choose an action randomly\n",
        "    action = np.random.choice(np.arange(2), p = probs)\n",
        "    \n",
        "    # Debugging and Display purposes only \n",
        "    if display_probability:\n",
        "      print(probs)\n",
        "      if action:\n",
        "        print(f\"Action is {action}. Player hit.\")\n",
        "      else:\n",
        "        print(f\"Action is {action}. Player stands.\")\n",
        "\n",
        "    return action "
      ],
      "metadata": {
        "id": "Y-GsIkGnOIyN"
      },
      "execution_count": 6,
      "outputs": []
    },
    {
      "cell_type": "markdown",
      "source": [
        "Now that we have a policy function, lets quickly test it to see it choose an action."
      ],
      "metadata": {
        "id": "MHGq1bDzrzjJ"
      }
    },
    {
      "cell_type": "code",
      "source": [
        "# testing epsiole_policy\n",
        "action = epsilone_policy(Q, env.reset(), 0.8, True)"
      ],
      "metadata": {
        "colab": {
          "base_uri": "https://localhost:8080/"
        },
        "id": "90foDmQzozR_",
        "outputId": "6d3eed5a-11d1-4000-8963-58211c1c90cf"
      },
      "execution_count": 14,
      "outputs": [
        {
          "output_type": "stream",
          "name": "stdout",
          "text": [
            "[0.6, 0.4]\n",
            "Action is 0. Player stands.\n"
          ]
        }
      ]
    },
    {
      "cell_type": "markdown",
      "source": [
        "Now that we have the policy working, I need a function to generate an episode that I can call while running the monte carlo function. This episode creating function needs pick an action in a current state (use the policy created above), record what happened, then either finish or continue to the next state if the game is not done. \n",
        "\n",
        "In BlackJack that means it gets two cards and the dealer gets one. It will then either hit or stand. If it goes over 21, the game is over and it will record the loss with a -1 reward. It it wins it will record the win with +1. If the game is still continuing it will play hit and play another round. "
      ],
      "metadata": {
        "id": "1zS56hH7UxGO"
      }
    },
    {
      "cell_type": "code",
      "source": [
        "def create_episode(Q, e, display=False):\n",
        "    # Start each episode at a random state\n",
        "    state = env.reset()\n",
        "    episode = []\n",
        "    \n",
        "    while True: \n",
        "        # sampling actions using the Epsilon Greedy Policy \n",
        "        action = epsilone_policy(Q, state, e)\n",
        "\n",
        "        # Step to the next state with this given action (update state at the same time)\n",
        "        state, reward, done, _ = env.step(action)\n",
        "\n",
        "        # Add information to episode\n",
        "        episode.append((state, action, reward))\n",
        "    \n",
        "        if done == True:\n",
        "            break\n",
        "    \n",
        "    # Debugging and Visualizer only\n",
        "    if display:\n",
        "      for i in episode:\n",
        "        # Display hands\n",
        "        print(f\"Players Total: {i[0][0]}\")\n",
        "        print(f\"Dealers Total: {i[0][1]}\")\n",
        "\n",
        "        # Check for ace\n",
        "        if i[2]:\n",
        "          print(\"Player has Ace!\")\n",
        "\n",
        "        # Display players action\n",
        "        if i[1]:\n",
        "          print(\"Player hit!\")\n",
        "        else:\n",
        "          print(\"Player stays.\")\n",
        "        print(\"=====\")\n",
        "\n",
        "      # Display result of episode\n",
        "      if episode[-1][2] == 1:\n",
        "        print(\"Player wins!\")\n",
        "      elif episode[-1][2] == -1:\n",
        "        print(\"Player lost...\")\n",
        "      else:\n",
        "        print(\"Push (Draw game)\")\n",
        "\n",
        "    return episode "
      ],
      "metadata": {
        "id": "A6VRADNkMbs0"
      },
      "execution_count": 15,
      "outputs": []
    },
    {
      "cell_type": "markdown",
      "source": [
        "Now we can create episodes! Let's gives this a quick test run and see what's happening. "
      ],
      "metadata": {
        "id": "u3heVVRKtoDr"
      }
    },
    {
      "cell_type": "code",
      "source": [
        "create_episode(Q, 0.7, True)"
      ],
      "metadata": {
        "colab": {
          "base_uri": "https://localhost:8080/"
        },
        "id": "DM-zGpzgpb93",
        "outputId": "80cb04bd-746b-4bf9-f7f3-9a160b51bb65"
      },
      "execution_count": 37,
      "outputs": [
        {
          "output_type": "stream",
          "name": "stdout",
          "text": [
            "Players Total: 20\n",
            "Dealers Total: 10\n",
            "Player hit!\n",
            "=====\n",
            "Players Total: 28\n",
            "Dealers Total: 10\n",
            "Player has Ace!\n",
            "Player hit!\n",
            "=====\n",
            "Player lost...\n"
          ]
        },
        {
          "output_type": "execute_result",
          "data": {
            "text/plain": [
              "[((20, 10, False), 1, 0.0), ((28, 10, False), 1, -1.0)]"
            ]
          },
          "metadata": {},
          "execution_count": 37
        }
      ]
    },
    {
      "cell_type": "markdown",
      "source": [
        "We can see that each index of the list contains the state, action, and result. Now with this set up, we can put it all together!!"
      ],
      "metadata": {
        "id": "FPrkdm_tyzrh"
      }
    },
    {
      "cell_type": "code",
      "source": [
        "def main(episodes, epsilon, epsilon_min, alpha, discount): \n",
        "    # Create a Q Function\n",
        "    Q = defaultdict(lambda: np.zeros(2))\n",
        "\n",
        "    # Keep track of every episodes rewards \n",
        "    episodes_rewards = []\n",
        "    \n",
        "    # Run for number of episodes provided \n",
        "    for episode in range(1, episodes + 1): \n",
        "      # Decay epsilon value each iteration\n",
        "        epsilon = max(epsilon_min, epsilon * 0.9999)\n",
        "\n",
        "        # Display what episode we are on ... \n",
        "        if episode % 1000 == 0:\n",
        "          print(\"\\rGames {}/{}:\".format(episode, episodes), end=\"\")\n",
        "        \n",
        "        if episode > 1000 and episode % 100 == 0:\n",
        "          print(\"$\", end =\"\")\n",
        "\n",
        "        # Get information from each episode (game)\n",
        "        states, actions, rewards = zip(*create_episode(Q, epsilon))\n",
        "        rewards = np.array(rewards)\n",
        "        episodes_rewards.append(sum(rewards))\n",
        "        \n",
        "        # Steps\n",
        "        for i, state in enumerate(states):\n",
        "          # Get the discount for the current state we are in and onwards\n",
        "          discounts = np.array([discount ** i for i in range(len(rewards[i: ]))])\n",
        "          returns = sum(rewards[i: ] * discounts)\n",
        "          \n",
        "          # Update our current Q(s,a) Function \n",
        "          Q[state][actions[i]] += alpha * (returns - Q[state][actions[i]])\n",
        "          P = dict((state, np.argmax(q_value)) for state, q_value in Q.items())\n",
        "        \n",
        "    return Q, P, episodes_rewards"
      ],
      "metadata": {
        "id": "NJSWR7bayvSv"
      },
      "execution_count": 38,
      "outputs": []
    },
    {
      "cell_type": "code",
      "source": [
        "# Run the Monte Carlo Method with the following parameters\n",
        "epsilon_min = 0.05\n",
        "num_episodes = 1000000\n",
        "Q, policy, rewards = main(num_episodes, 1, epsilon_min, 0.02, 1)"
      ],
      "metadata": {
        "colab": {
          "base_uri": "https://localhost:8080/"
        },
        "id": "rFfEMiVIO7yg",
        "outputId": "a34cfa0a-c1a6-4f75-cc62-40e31429dfa4"
      },
      "execution_count": 45,
      "outputs": [
        {
          "output_type": "stream",
          "name": "stdout",
          "text": [
            "Games 1000000/1000000:$"
          ]
        }
      ]
    },
    {
      "cell_type": "code",
      "source": [
        "# We only want to count wins!\n",
        "wins =  [0 if x == -1 else x for x in rewards]\n",
        "wim_total= np.array(wins).cumsum()\n",
        "win_ratio= wim_total / np.arange(1, num_episodes+1)\n",
        "\n",
        "# Plot the graph!\n",
        "plt.figure(figsize=(20, 8))\n",
        "plt.plot(np.arange(1, num_episodes+1), win_ratio)\n",
        "plt.axhline(y=0.4,linewidth= 2, color='r', linestyle= 'dotted')\n",
        "\n",
        "# Label the graph\n",
        "plt.xlabel(\"Number of Games\")\n",
        "plt.ylabel(\"Win %\")\n",
        "plt.show();"
      ],
      "metadata": {
        "colab": {
          "base_uri": "https://localhost:8080/",
          "height": 475
        },
        "id": "ZBD_Ym-D4YiO",
        "outputId": "5c3ed1e2-b9e3-40b7-a51a-4d62dac36660"
      },
      "execution_count": 46,
      "outputs": [
        {
          "output_type": "display_data",
          "data": {
            "text/plain": [
              "<Figure size 1440x576 with 1 Axes>"
            ],
            "image/png": "[encoded data removed]"
          },
          "metadata": {
            "needs_background": "light"
          }
        }
      ]
    },
    {
      "cell_type": "markdown",
      "source": [
        "We can see that there is some fluctuation at the beginning of the training. This is when we are exploring so this is to be expected. Then the agent slowly starts to play consistently improving until the win ratio reaches roughly 40%. This is what we were expecting from the beginning. It looks like the AI agent learned how to play Blackjack with the same win percentage as an average Blackjack strategy!  "
      ],
      "metadata": {
        "id": "5uGFTs_wdE_s"
      }
    },
    {
      "cell_type": "markdown",
      "source": [
        "For fun, lets plot the results of the final 1000 games giving our agent $100 and giving +1 for a win and -1 for a lose."
      ],
      "metadata": {
        "id": "Xp_n39lKMJxy"
      }
    },
    {
      "cell_type": "code",
      "source": [
        "money = 100\n",
        "count = []\n",
        "for result in rewards[999000:]:\n",
        "  if result == 1:\n",
        "    money += 1\n",
        "\n",
        "  elif result == -1:\n",
        "    money -= 1\n",
        "  \n",
        "  count.append(money)\n",
        "\n",
        "plt.figure(figsize=(10, 8))\n",
        "plt.title(\"Results over last 1000 games\")\n",
        "plt.ylabel(\"Money $\")\n",
        "plt.xlabel(\"Number of Games\")\n",
        "plt.axhline(y=0,linewidth= 2, color='r', linestyle= 'dotted')\n",
        "plt.plot(count);"
      ],
      "metadata": {
        "colab": {
          "base_uri": "https://localhost:8080/",
          "height": 513
        },
        "id": "13Cc5XqN47p3",
        "outputId": "f251a076-306c-4d9f-88a2-dc4e7a23a2bd"
      },
      "execution_count": 47,
      "outputs": [
        {
          "output_type": "display_data",
          "data": {
            "text/plain": [
              "<Figure size 720x576 with 1 Axes>"
            ],
            "image/png": "[encoded data removed]"
          },
          "metadata": {
            "needs_background": "light"
          }
        }
      ]
    },
    {
      "cell_type": "markdown",
      "source": [
        "Look at that slide!\n",
        "\n",
        "I guess the take away from this project is that even a computer can't beat the 40-42% win rate. I'm sure there are other ML options that could improve this AI. But I am happy with the results! Overall it was a fun project. "
      ],
      "metadata": {
        "id": "REjFnjTaNFgh"
      }
    }
  ]
}